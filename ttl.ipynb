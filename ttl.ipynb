{
 "cells": [
  {
   "cell_type": "code",
   "execution_count": null,
   "metadata": {},
   "outputs": [],
   "source": []
  },
  {
   "cell_type": "code",
   "execution_count": 7,
   "metadata": {},
   "outputs": [
    {
     "name": "stdout",
     "output_type": "stream",
     "text": [
      "10 not spy\n"
     ]
    }
   ],
   "source": [
    "num = input()\n",
    "sum_digi = 0\n",
    "prod_of_digi = 1\n",
    "for digit in num:\n",
    "    sum_digi += int(digit)\n",
    "    prod_of_digi *= int(digit)\n",
    "if sum_digi == prod_of_digi:\n",
    "    print(num, \"Spy\")\n",
    "else:\n",
    "    print(num, \"not spy\")\n"
   ]
  },
  {
   "cell_type": "code",
   "execution_count": 8,
   "metadata": {},
   "outputs": [
    {
     "name": "stdout",
     "output_type": "stream",
     "text": [
      "20 Niven\n"
     ]
    }
   ],
   "source": [
    "num = int(input())\n",
    "sum_digi = 0\n",
    "temp = num\n",
    "while temp > 0:\n",
    "    sum_digi += temp % 10\n",
    "    temp = temp // 10\n",
    "if num % sum_digi == 0:\n",
    "    print(num, \"Niven\")\n",
    "else:\n",
    "    print(num, \"not a Niven\")\n"
   ]
  },
  {
   "cell_type": "code",
   "execution_count": 9,
   "metadata": {},
   "outputs": [
    {
     "name": "stdout",
     "output_type": "stream",
     "text": [
      "Not special\n"
     ]
    }
   ],
   "source": [
    "num = int(input())\n",
    "sum_digi = (num // 10) + (num % 10)\n",
    "prod_digi = (num // 10) * (num % 10)\n",
    "if num == sum_digi + prod_digi:\n",
    "    print(\"Special\")\n",
    "else:\n",
    "    print(\"Not special\")\n"
   ]
  },
  {
   "cell_type": "code",
   "execution_count": 10,
   "metadata": {},
   "outputs": [
    {
     "name": "stdout",
     "output_type": "stream",
     "text": [
      "30 no prime Automorphic\n"
     ]
    }
   ],
   "source": [
    "num = int(input())\n",
    "is_prime = True\n",
    "for i in range(2, num):\n",
    "    if num % i == 0:\n",
    "        is_prime = False\n",
    "        break\n",
    "if is_prime:\n",
    "    print(num, \"Prime\")\n",
    "else:\n",
    "    square = num * num\n",
    "    if str(num) == str(square)[-len(str(num)):]:\n",
    "        print(num, \"automoorphic\")\n",
    "    else:\n",
    "        print(num, \"no prime Automorphic\")\n"
   ]
  },
  {
   "cell_type": "code",
   "execution_count": 11,
   "metadata": {},
   "outputs": [
    {
     "name": "stdout",
     "output_type": "stream",
     "text": [
      "Sum series:  12964744.294069612\n"
     ]
    }
   ],
   "source": [
    "a = float(input())\n",
    "n = int(input())\n",
    "sum = 0\n",
    "for i in range(1, n+1):\n",
    "    sum += (i**i) / (a**(i-1))\n",
    "print(\"Sum series: \", sum)\n"
   ]
  },
  {
   "cell_type": "code",
   "execution_count": 4,
   "metadata": {},
   "outputs": [
    {
     "name": "stdout",
     "output_type": "stream",
     "text": [
      "Sum series is 2005395532515211.0\n"
     ]
    }
   ],
   "source": [
    "a = float(input())\n",
    "sum = 0\n",
    "for i in range(11):\n",
    "    sign = (-1)**i\n",
    "    term = a**i\n",
    "    sum += sign * term\n",
    "print(\"Sum series is\", sum)\n"
   ]
  },
  {
   "cell_type": "code",
   "execution_count": 3,
   "metadata": {},
   "outputs": [
    {
     "name": "stdout",
     "output_type": "stream",
     "text": [
      "Roll No\tName\t\tScore\n",
      "2005270\tSHIVANI\t\t15\n",
      "2005076\tAKSHAT\t\t13\n",
      "20051633\tADARSH\t\t13\n",
      "2005343\tSUBHRANGSHU\t\t9\n",
      "20051420\tSHUBHANSH\t\t14\n",
      "20051915\tJyotsana\t\t15\n",
      "20051174\tSIMRAN\t\t14\n",
      "20051182\tSWEEKRITI\t\t15\n",
      "20051433\tAASHISH\t\t15\n",
      "20051143\tDURGESH\t\t14\n",
      "20051164\tSANSKAR\t\t15\n",
      "20051351\tNACHIKETA\t\t14\n",
      "2005312\tHIMANSHU\t\t15\n",
      "2005704\tACHINTYA\t\t15\n",
      "20051397\tB.S.\t\t5\n",
      "20051467\tSHRUTI\t\t15\n",
      "20051872\tADITYA\t\t15\n",
      "20051614\tVIVEK\t\t13\n",
      "20051473\tSNEHIL\t\t15\n",
      "20051359\tRADHIKA\t\t15\n",
      "20051105\tSIMRAN\t\t15\n",
      "20051855\tTIYASHA\t\t13\n",
      "20051388\tSURAVI\t\t15\n",
      "20051001\tCHANDRIKA\t\t12\n",
      "20051167\tSHASHWAT\t\t15\n",
      "2005909\tVISHNUPRIYA\t\t13\n",
      "2005011\tANUBHAV\t\t13\n",
      "2005150\tARGHYADEEP\t\t13\n",
      "2005718\tASTITVA\t\t14\n",
      "2005198\tSHIVANGI\t\t13\n",
      "2005597\tPRIYANSHU\t\t15\n",
      "2005326\tROHIT\t\t13\n",
      "2005904\tTANISHQ\t\t14\n",
      "2005631\tABHIGYAN\t\t15\n",
      "2005332\tSASWATA\t\t13\n",
      "2005119\tRATUL\t\t12\n",
      "2005554\tTANMOY\t\t14\n",
      "2005548\tSOUMYADEEP\t\t14\n",
      "20051049\tVIRAJ\t\t11\n",
      "2005179\tMONSOON\t\t15\n",
      "20051903\tAakash\t\t12\n",
      "2005407\tSHIKHA\t\t13\n",
      "20051510\tANKITA\t\t13\n",
      "20051023\tRISHAV\t\t12\n",
      "2005521\tKISALAY\t\t13\n",
      "21053022\tCHIRANJEEB\t\t15\n",
      "20051868\tJASIKA\t\t15\n",
      "2005608\tSARTHAK\t\t14\n",
      "2005444\tASHITA\t\t14\n",
      "2005578\tCHIRAG\t\t15\n",
      "2005603\tSAJAL\t\t15\n",
      "20051888\tSonal\t\t13\n",
      "20051552\tARKAPRAVA\t\t15\n",
      "20051562\tANSHUL\t\t15\n",
      "2005439\tANUSHKA\t\t14\n",
      "2005979\tWRIDDHI\t\t15\n",
      "20051981\tOSMAN\t\t11\n",
      "2005168\tHIMANSHU\t\t11\n",
      "2005161\tDIVYANSHU\t\t13\n",
      "20051042\tSUMEET\t\t15\n",
      "2005929\tARUNANGSHU\t\t15\n",
      "2005473\tSAKSHAM\t\t14\n",
      "2005324\tPRIYANSHU\t\t15\n",
      "2005289\tANIKET\t\t15\n",
      "2005849\tANIK\t\t15\n",
      "20051122\tADARSH\t\t15\n",
      "2005178\tMEGHNA\t\t12\n",
      "2005278\tSUHENA\t\t15\n",
      "21053067\tSUBHANNITA\t\t15\n",
      "2005058\tSHREYANKA\t\t15\n",
      "2005288\tANIKET\t\t15\n",
      "21053015\tASHUTOSH\t\t15\n",
      "2005590\tMRIGANK\t\t15\n",
      "2005585\tKUNAL\t\t15\n",
      "21053047\tSHIVRAM\t\t15\n",
      "21053042\tRISHAB\t\t15\n",
      "20051362\tSAHIL\t\t15\n",
      "2005601\tRISHABH\t\t15\n",
      "20051962\tPRIYANSHU\t\t15\n",
      "20051805\tSK\t\t15\n",
      "2005598\tRADHIKA\t\t15\n",
      "2005721\tCHESHTA\t\t14\n",
      "20051866\tKSHITIJ\t\t15\n",
      "20051254\tSIDHANT\t\t14\n",
      "20051329\tSRUSTI\t\t14\n",
      "2005645\tANKIT\t\t12\n",
      "21053002\tABHINAV\t\t12\n"
     ]
    }
   ],
   "source": [
    "with open(\"RollNo_Name.txt\", \"r\") as f:\n",
    "    lines = f.readlines()[1:]\n",
    "    rollname_dict = {line.split()[0]: line.split()[1] for line in lines}\n",
    "\n",
    "with open(\"RollNo_Score.txt\", \"r\") as f:\n",
    "    lines = f.readlines()[1:]\n",
    "    student = []\n",
    "    for line in lines:\n",
    "        roll_no, score = line.split()\n",
    "        if roll_no in rollname_dict:\n",
    "            name = rollname_dict[roll_no]\n",
    "            student.append([roll_no, name, score])\n",
    "\n",
    "print(\"Roll No\\tName\\t\\tScore\")\n",
    "for student in student:\n",
    "    print(\"{}\\t{}\\t\\t{}\".format(student[0], student[1], student[2]))\n"
   ]
  },
  {
   "cell_type": "code",
   "execution_count": 13,
   "metadata": {},
   "outputs": [
    {
     "name": "stdout",
     "output_type": "stream",
     "text": [
      "1\n"
     ]
    }
   ],
   "source": [
    "s = input(\"Enter a string: \")\n",
    "count = {}\n",
    "for char in s:\n",
    "    if char in count:\n",
    "        count[char] += 1\n",
    "    else:\n",
    "        count[char] = 1\n",
    "\n",
    "print(count[char])"
   ]
  },
  {
   "cell_type": "code",
   "execution_count": null,
   "metadata": {},
   "outputs": [],
   "source": []
  }
 ],
 "metadata": {
  "kernelspec": {
   "display_name": "base",
   "language": "python",
   "name": "python3"
  },
  "language_info": {
   "codemirror_mode": {
    "name": "ipython",
    "version": 3
   },
   "file_extension": ".py",
   "mimetype": "text/x-python",
   "name": "python",
   "nbconvert_exporter": "python",
   "pygments_lexer": "ipython3",
   "version": "3.9.13"
  },
  "orig_nbformat": 4
 },
 "nbformat": 4,
 "nbformat_minor": 2
}
