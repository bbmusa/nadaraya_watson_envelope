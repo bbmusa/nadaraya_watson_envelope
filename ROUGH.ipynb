{
 "cells": [
  {
   "cell_type": "code",
   "execution_count": 2,
   "metadata": {},
   "outputs": [],
   "source": [
    "import numpy as np\n",
    "import pandas as pd\n",
    "import matplotlib.pyplot as plt\n",
    "import yfinance as yf\n",
    "import streamlit as st"
   ]
  },
  {
   "cell_type": "code",
   "execution_count": 135,
   "metadata": {},
   "outputs": [],
   "source": [
    "df = pd.read_csv(\"icici tick/100.csv\")\n",
    "symbol = df.values"
   ]
  },
  {
   "cell_type": "code",
   "execution_count": 138,
   "metadata": {},
   "outputs": [
    {
     "data": {
      "text/plain": [
       "'ADANIENT'"
      ]
     },
     "execution_count": 138,
     "metadata": {},
     "output_type": "execute_result"
    }
   ],
   "source": [
    "symbol[0][0]"
   ]
  },
  {
   "cell_type": "code",
   "execution_count": 10,
   "metadata": {},
   "outputs": [],
   "source": [
    "import warnings\n",
    "from datetime import datetime, timedelta\n",
    "import pytz\n",
    "from breeze_connect import BreezeConnect\n",
    "from snapi_py_client.snapi_bridge import StocknoteAPIPythonBridge\n",
    "import pandas as pd\n",
    "import json\n",
    "import time\n",
    "import threading\n",
    "import pytz\n",
    "import warnings\n",
    "import numpy as np\n",
    "# Turn off pandas warnings\n",
    "warnings.filterwarnings(\"ignore\")\n",
    "\n",
    "\n",
    "api_key = \"62M23)75L223000x45Kb7TG3O0261368\"\n",
    "sec_key = \"4646x6992821&p7Cy1+2z87g93u89935\"\n",
    "api_session = '8083172' #ICICI -URL: https://api.icicidirect.com/apiuser/login?api_key=62M23%2975L223000x45Kb7TG3O0261368\n",
    "\n",
    "# Initialize SDK\n",
    "breeze = BreezeConnect(api_key=api_key)\n",
    "breeze.generate_session(api_secret=sec_key,\n",
    "                        session_token=api_session)\n",
    "\n"
   ]
  },
  {
   "cell_type": "code",
   "execution_count": 124,
   "metadata": {},
   "outputs": [
    {
     "data": {
      "text/plain": [
       "{'exchange_code': 'NSE',\n",
       " 'exchange_stock_code': 'MCDOWELL-N',\n",
       " 'isec_stock_code': 'UNISPI',\n",
       " 'isec_token': '10447',\n",
       " 'company name': 'UNITED SPIRITS LIMITED',\n",
       " 'isec_token_level1': '4.1!10447',\n",
       " 'isec_token_level2': '4.2!10447'}"
      ]
     },
     "execution_count": 124,
     "metadata": {},
     "output_type": "execute_result"
    }
   ],
   "source": [
    "breeze.get_names(exchange_code = 'NSE',stock_code = 'MCDOWELL-N')"
   ]
  },
  {
   "cell_type": "code",
   "execution_count": 94,
   "metadata": {},
   "outputs": [],
   "source": [
    "from datetime import datetime, timedelta\n",
    "from sklearn.neighbors import KNeighborsRegressor\n",
    "import ta\n",
    "\n",
    "today = datetime.today() # Get today's date\n",
    "one_month_ago = today - timedelta(days=365) # Subtract 30 days to get date 1 month ago\n",
    "from_date = one_month_ago.strftime('%Y-%m-%dT%H:%M:%S.000Z') # Format the date as a string\n",
    "\n",
    "to_date = today.strftime('%Y-%m-%dT%H:%M:%S.000Z') \n",
    "breeze.get_names(exchange_code = 'NSE',stock_code = 'TATASTEEL')\n",
    "data = breeze.get_historical_data_v2(interval=\"1day\",\n",
    "                            from_date= from_date,\n",
    "                            to_date= to_date,\n",
    "                            stock_code=\"fgh\",\n",
    "                            exchange_code=\"NSE\",\n",
    "                            product_type=\"cash\")\n"
   ]
  },
  {
   "cell_type": "code",
   "execution_count": 96,
   "metadata": {},
   "outputs": [
    {
     "data": {
      "text/plain": [
       "{'Error': None, 'Status': 200, 'Success': []}"
      ]
     },
     "execution_count": 96,
     "metadata": {},
     "output_type": "execute_result"
    }
   ],
   "source": [
    "print(data['Error'])"
   ]
  },
  {
   "cell_type": "code",
   "execution_count": null,
   "metadata": {},
   "outputs": [],
   "source": [
    "\n",
    "data = pd.DataFrame(data['Success'])\n",
    "data[['open', 'high', 'low', 'close', 'volume']] = data[['open', 'high', 'low', 'close', 'volume']].astype(float)\n",
    "data = data.set_index('datetime')\n",
    "data\n",
    "\n",
    "data['Close_next'] = data['close'].shift(-1)\n",
    "data['Close_pct_change'] = data['Close_next'].pct_change()\n",
    "data = data.dropna()\n",
    " # Calculate technical indicators\n",
    "data = pd.DataFrame(ta.add_all_ta_features(data, open=\"open\", high=\"high\", low=\"low\", close=\"close\", volume=\"volume\", fillna=True))\n",
    "index = pd.DataFrame(data.columns)\n",
    "index = index[0].to_numpy()[8:]\n",
    "index = index.tolist()\n",
    "X = data[index].values\n",
    "y = data[['Close_next', 'Close_pct_change']].values\n",
    "\n",
    "# Train the KNN model\n",
    "model = KNeighborsRegressor()\n",
    "model.fit(X, y)\n",
    "\n",
    "# Prepare feature data for the next day\n",
    "last_day_data = data.iloc[-1][index].values.reshape(1, -1)  # Use the last day's technical indicator values\n",
    "\n",
    "# Predict the next closing price and percentage change\n",
    "next_close, next_pct_change = model.predict(last_day_data)[0]\n",
    "print(f'close next: {next_close}')\n",
    "print(f'close %: {next_pct_change*100}%')"
   ]
  },
  {
   "cell_type": "code",
   "execution_count": 141,
   "metadata": {},
   "outputs": [
    {
     "name": "stdout",
     "output_type": "stream",
     "text": [
      "[]\n"
     ]
    },
    {
     "ename": "KeyError",
     "evalue": "\"None of [Index(['open', 'high', 'low', 'close', 'volume'], dtype='object')] are in the [columns]\"",
     "output_type": "error",
     "traceback": [
      "\u001b[1;31m---------------------------------------------------------------------------\u001b[0m",
      "\u001b[1;31mKeyError\u001b[0m                                  Traceback (most recent call last)",
      "\u001b[1;32m~\\AppData\\Local\\Temp\\ipykernel_19888\\2509903459.py\u001b[0m in \u001b[0;36m<module>\u001b[1;34m\u001b[0m\n\u001b[0;32m     72\u001b[0m     \u001b[1;32mfor\u001b[0m \u001b[0mi\u001b[0m \u001b[1;32min\u001b[0m \u001b[0mrange\u001b[0m\u001b[1;33m(\u001b[0m\u001b[1;36m94\u001b[0m\u001b[1;33m)\u001b[0m\u001b[1;33m:\u001b[0m\u001b[1;33m\u001b[0m\u001b[1;33m\u001b[0m\u001b[0m\n\u001b[0;32m     73\u001b[0m         \u001b[0msym\u001b[0m \u001b[1;33m=\u001b[0m \u001b[0msymbol\u001b[0m\u001b[1;33m[\u001b[0m\u001b[0mi\u001b[0m\u001b[1;33m]\u001b[0m\u001b[1;33m[\u001b[0m\u001b[1;36m0\u001b[0m\u001b[1;33m]\u001b[0m\u001b[1;33m\u001b[0m\u001b[1;33m\u001b[0m\u001b[0m\n\u001b[1;32m---> 74\u001b[1;33m         \u001b[0mprediction\u001b[0m \u001b[1;33m=\u001b[0m \u001b[0mPrediction\u001b[0m\u001b[1;33m.\u001b[0m\u001b[0mpredict_next_close\u001b[0m\u001b[1;33m(\u001b[0m\u001b[0msym\u001b[0m\u001b[1;33m)\u001b[0m\u001b[1;33m\u001b[0m\u001b[1;33m\u001b[0m\u001b[0m\n\u001b[0m\u001b[0;32m     75\u001b[0m         \u001b[1;32mif\u001b[0m \u001b[0mprediction\u001b[0m \u001b[1;32mand\u001b[0m \u001b[0mabs\u001b[0m\u001b[1;33m(\u001b[0m\u001b[0mprediction\u001b[0m\u001b[1;33m[\u001b[0m\u001b[1;36m1\u001b[0m\u001b[1;33m]\u001b[0m\u001b[1;33m)\u001b[0m \u001b[1;33m>\u001b[0m \u001b[1;36m1.0\u001b[0m\u001b[1;33m:\u001b[0m\u001b[1;33m\u001b[0m\u001b[1;33m\u001b[0m\u001b[0m\n\u001b[0;32m     76\u001b[0m             \u001b[0mmessage\u001b[0m \u001b[1;33m=\u001b[0m \u001b[1;34mf\"{sym}\\nchange: {prediction[1]:.2f}%\"\u001b[0m\u001b[1;33m\u001b[0m\u001b[1;33m\u001b[0m\u001b[0m\n",
      "\u001b[1;32m~\\AppData\\Local\\Temp\\ipykernel_19888\\2509903459.py\u001b[0m in \u001b[0;36mpredict_next_close\u001b[1;34m(sym)\u001b[0m\n\u001b[0;32m     33\u001b[0m         \u001b[0mprint\u001b[0m\u001b[1;33m(\u001b[0m\u001b[0mdata\u001b[0m\u001b[1;33m[\u001b[0m\u001b[1;34m'Success'\u001b[0m\u001b[1;33m]\u001b[0m\u001b[1;33m)\u001b[0m\u001b[1;33m\u001b[0m\u001b[1;33m\u001b[0m\u001b[0m\n\u001b[0;32m     34\u001b[0m         \u001b[0mdata\u001b[0m \u001b[1;33m=\u001b[0m \u001b[0mpd\u001b[0m\u001b[1;33m.\u001b[0m\u001b[0mDataFrame\u001b[0m\u001b[1;33m(\u001b[0m\u001b[0mdata\u001b[0m\u001b[1;33m[\u001b[0m\u001b[1;34m'Success'\u001b[0m\u001b[1;33m]\u001b[0m\u001b[1;33m)\u001b[0m\u001b[1;33m\u001b[0m\u001b[1;33m\u001b[0m\u001b[0m\n\u001b[1;32m---> 35\u001b[1;33m         \u001b[0mdata\u001b[0m\u001b[1;33m[\u001b[0m\u001b[1;33m[\u001b[0m\u001b[1;34m'open'\u001b[0m\u001b[1;33m,\u001b[0m \u001b[1;34m'high'\u001b[0m\u001b[1;33m,\u001b[0m \u001b[1;34m'low'\u001b[0m\u001b[1;33m,\u001b[0m \u001b[1;34m'close'\u001b[0m\u001b[1;33m,\u001b[0m \u001b[1;34m'volume'\u001b[0m\u001b[1;33m]\u001b[0m\u001b[1;33m]\u001b[0m \u001b[1;33m=\u001b[0m \u001b[0mdata\u001b[0m\u001b[1;33m[\u001b[0m\u001b[1;33m[\u001b[0m\u001b[1;34m'open'\u001b[0m\u001b[1;33m,\u001b[0m \u001b[1;34m'high'\u001b[0m\u001b[1;33m,\u001b[0m \u001b[1;34m'low'\u001b[0m\u001b[1;33m,\u001b[0m \u001b[1;34m'close'\u001b[0m\u001b[1;33m,\u001b[0m \u001b[1;34m'volume'\u001b[0m\u001b[1;33m]\u001b[0m\u001b[1;33m]\u001b[0m\u001b[1;33m.\u001b[0m\u001b[0mastype\u001b[0m\u001b[1;33m(\u001b[0m\u001b[0mfloat\u001b[0m\u001b[1;33m)\u001b[0m\u001b[1;33m\u001b[0m\u001b[1;33m\u001b[0m\u001b[0m\n\u001b[0m\u001b[0;32m     36\u001b[0m         \u001b[0mdata\u001b[0m \u001b[1;33m=\u001b[0m \u001b[0mdata\u001b[0m\u001b[1;33m.\u001b[0m\u001b[0mset_index\u001b[0m\u001b[1;33m(\u001b[0m\u001b[1;34m'datetime'\u001b[0m\u001b[1;33m)\u001b[0m\u001b[1;33m\u001b[0m\u001b[1;33m\u001b[0m\u001b[0m\n\u001b[0;32m     37\u001b[0m \u001b[1;33m\u001b[0m\u001b[0m\n",
      "\u001b[1;32mc:\\Users\\yasht\\anaconda3\\lib\\site-packages\\pandas\\core\\frame.py\u001b[0m in \u001b[0;36m__getitem__\u001b[1;34m(self, key)\u001b[0m\n\u001b[0;32m   3811\u001b[0m             \u001b[1;32mif\u001b[0m \u001b[0mis_iterator\u001b[0m\u001b[1;33m(\u001b[0m\u001b[0mkey\u001b[0m\u001b[1;33m)\u001b[0m\u001b[1;33m:\u001b[0m\u001b[1;33m\u001b[0m\u001b[1;33m\u001b[0m\u001b[0m\n\u001b[0;32m   3812\u001b[0m                 \u001b[0mkey\u001b[0m \u001b[1;33m=\u001b[0m \u001b[0mlist\u001b[0m\u001b[1;33m(\u001b[0m\u001b[0mkey\u001b[0m\u001b[1;33m)\u001b[0m\u001b[1;33m\u001b[0m\u001b[1;33m\u001b[0m\u001b[0m\n\u001b[1;32m-> 3813\u001b[1;33m             \u001b[0mindexer\u001b[0m \u001b[1;33m=\u001b[0m \u001b[0mself\u001b[0m\u001b[1;33m.\u001b[0m\u001b[0mcolumns\u001b[0m\u001b[1;33m.\u001b[0m\u001b[0m_get_indexer_strict\u001b[0m\u001b[1;33m(\u001b[0m\u001b[0mkey\u001b[0m\u001b[1;33m,\u001b[0m \u001b[1;34m\"columns\"\u001b[0m\u001b[1;33m)\u001b[0m\u001b[1;33m[\u001b[0m\u001b[1;36m1\u001b[0m\u001b[1;33m]\u001b[0m\u001b[1;33m\u001b[0m\u001b[1;33m\u001b[0m\u001b[0m\n\u001b[0m\u001b[0;32m   3814\u001b[0m \u001b[1;33m\u001b[0m\u001b[0m\n\u001b[0;32m   3815\u001b[0m         \u001b[1;31m# take() does not accept boolean indexers\u001b[0m\u001b[1;33m\u001b[0m\u001b[1;33m\u001b[0m\u001b[0m\n",
      "\u001b[1;32mc:\\Users\\yasht\\anaconda3\\lib\\site-packages\\pandas\\core\\indexes\\base.py\u001b[0m in \u001b[0;36m_get_indexer_strict\u001b[1;34m(self, key, axis_name)\u001b[0m\n\u001b[0;32m   6068\u001b[0m             \u001b[0mkeyarr\u001b[0m\u001b[1;33m,\u001b[0m \u001b[0mindexer\u001b[0m\u001b[1;33m,\u001b[0m \u001b[0mnew_indexer\u001b[0m \u001b[1;33m=\u001b[0m \u001b[0mself\u001b[0m\u001b[1;33m.\u001b[0m\u001b[0m_reindex_non_unique\u001b[0m\u001b[1;33m(\u001b[0m\u001b[0mkeyarr\u001b[0m\u001b[1;33m)\u001b[0m\u001b[1;33m\u001b[0m\u001b[1;33m\u001b[0m\u001b[0m\n\u001b[0;32m   6069\u001b[0m \u001b[1;33m\u001b[0m\u001b[0m\n\u001b[1;32m-> 6070\u001b[1;33m         \u001b[0mself\u001b[0m\u001b[1;33m.\u001b[0m\u001b[0m_raise_if_missing\u001b[0m\u001b[1;33m(\u001b[0m\u001b[0mkeyarr\u001b[0m\u001b[1;33m,\u001b[0m \u001b[0mindexer\u001b[0m\u001b[1;33m,\u001b[0m \u001b[0maxis_name\u001b[0m\u001b[1;33m)\u001b[0m\u001b[1;33m\u001b[0m\u001b[1;33m\u001b[0m\u001b[0m\n\u001b[0m\u001b[0;32m   6071\u001b[0m \u001b[1;33m\u001b[0m\u001b[0m\n\u001b[0;32m   6072\u001b[0m         \u001b[0mkeyarr\u001b[0m \u001b[1;33m=\u001b[0m \u001b[0mself\u001b[0m\u001b[1;33m.\u001b[0m\u001b[0mtake\u001b[0m\u001b[1;33m(\u001b[0m\u001b[0mindexer\u001b[0m\u001b[1;33m)\u001b[0m\u001b[1;33m\u001b[0m\u001b[1;33m\u001b[0m\u001b[0m\n",
      "\u001b[1;32mc:\\Users\\yasht\\anaconda3\\lib\\site-packages\\pandas\\core\\indexes\\base.py\u001b[0m in \u001b[0;36m_raise_if_missing\u001b[1;34m(self, key, indexer, axis_name)\u001b[0m\n\u001b[0;32m   6128\u001b[0m                 \u001b[1;32mif\u001b[0m \u001b[0muse_interval_msg\u001b[0m\u001b[1;33m:\u001b[0m\u001b[1;33m\u001b[0m\u001b[1;33m\u001b[0m\u001b[0m\n\u001b[0;32m   6129\u001b[0m                     \u001b[0mkey\u001b[0m \u001b[1;33m=\u001b[0m \u001b[0mlist\u001b[0m\u001b[1;33m(\u001b[0m\u001b[0mkey\u001b[0m\u001b[1;33m)\u001b[0m\u001b[1;33m\u001b[0m\u001b[1;33m\u001b[0m\u001b[0m\n\u001b[1;32m-> 6130\u001b[1;33m                 \u001b[1;32mraise\u001b[0m \u001b[0mKeyError\u001b[0m\u001b[1;33m(\u001b[0m\u001b[1;34mf\"None of [{key}] are in the [{axis_name}]\"\u001b[0m\u001b[1;33m)\u001b[0m\u001b[1;33m\u001b[0m\u001b[1;33m\u001b[0m\u001b[0m\n\u001b[0m\u001b[0;32m   6131\u001b[0m \u001b[1;33m\u001b[0m\u001b[0m\n\u001b[0;32m   6132\u001b[0m             \u001b[0mnot_found\u001b[0m \u001b[1;33m=\u001b[0m \u001b[0mlist\u001b[0m\u001b[1;33m(\u001b[0m\u001b[0mensure_index\u001b[0m\u001b[1;33m(\u001b[0m\u001b[0mkey\u001b[0m\u001b[1;33m)\u001b[0m\u001b[1;33m[\u001b[0m\u001b[0mmissing_mask\u001b[0m\u001b[1;33m.\u001b[0m\u001b[0mnonzero\u001b[0m\u001b[1;33m(\u001b[0m\u001b[1;33m)\u001b[0m\u001b[1;33m[\u001b[0m\u001b[1;36m0\u001b[0m\u001b[1;33m]\u001b[0m\u001b[1;33m]\u001b[0m\u001b[1;33m.\u001b[0m\u001b[0munique\u001b[0m\u001b[1;33m(\u001b[0m\u001b[1;33m)\u001b[0m\u001b[1;33m)\u001b[0m\u001b[1;33m\u001b[0m\u001b[1;33m\u001b[0m\u001b[0m\n",
      "\u001b[1;31mKeyError\u001b[0m: \"None of [Index(['open', 'high', 'low', 'close', 'volume'], dtype='object')] are in the [columns]\""
     ]
    }
   ],
   "source": [
    "import ta\n",
    "import yfinance as yf\n",
    "from sklearn.neighbors import KNeighborsRegressor\n",
    "import pandas as pd\n",
    "import requests\n",
    "from datetime import date, timedelta\n",
    "from time import sleep\n",
    "\n",
    "class Prediction:\n",
    "    \n",
    "    @staticmethod\n",
    "    def send_message(bot_token, bot_chatID, message):\n",
    "        url = f\"https://api.telegram.org/bot{bot_token}/sendMessage\"\n",
    "        data = {\"chat_id\": bot_chatID, \"text\": message, \"parse_mode\": \"Markdown\"}\n",
    "        response = requests.post(url, data=data)\n",
    "        return response.json()\n",
    "\n",
    "    @staticmethod\n",
    "    def predict_next_close(sym):\n",
    "\n",
    "        today = datetime.today() # Get today's date\n",
    "        one_month_ago = today - timedelta(days=365) # Subtract 30 days to get date 1 month ago\n",
    "        from_date = one_month_ago.strftime('%Y-%m-%dT%H:%M:%S.000Z') # Format the date as a string\n",
    "\n",
    "        to_date = today.strftime('%Y-%m-%dT%H:%M:%S.000Z') \n",
    "        breeze.get_names(exchange_code = 'NSE',stock_code = 'TATASTEEL')\n",
    "        data = breeze.get_historical_data_v2(interval=\"1day\",\n",
    "                                    from_date= from_date,\n",
    "                                    to_date= to_date,\n",
    "                                    stock_code=sym,\n",
    "                                    exchange_code=\"NSE\",\n",
    "                                    product_type=\"cash\")\n",
    "        print(data['Success'])\n",
    "        data = pd.DataFrame(data['Success'])\n",
    "        data[['open', 'high', 'low', 'close', 'volume']] = data[['open', 'high', 'low', 'close', 'volume']].astype(float)\n",
    "        data = data.set_index('datetime')\n",
    "\n",
    "        data['Close_next'] = data['close'].shift(-1)\n",
    "        data['Close_pct_change'] = data['Close_next'].pct_change()\n",
    "        data = data.dropna()\n",
    "        # Calculate technical indicators\n",
    "        data = pd.DataFrame(ta.add_all_ta_features(data, open=\"open\", high=\"high\", low=\"low\", close=\"close\", volume=\"volume\", fillna=True))\n",
    "        index = pd.DataFrame(data.columns)\n",
    "        index = index[0].to_numpy()[8:]\n",
    "        index = index.tolist()\n",
    "        X = data[index].values\n",
    "        y = data[['Close_next', 'Close_pct_change']].values\n",
    "\n",
    "        # Train the KNN model\n",
    "        model = KNeighborsRegressor()\n",
    "        model.fit(X, y)\n",
    "\n",
    "        # Prepare feature data for the next day\n",
    "        last_day_data = data.iloc[-1][index].values.reshape(1, -1)  # Use the last day's technical indicator values\n",
    "\n",
    "        # Predict the next closing price and percentage change\n",
    "        next_close, next_pct_change = model.predict(last_day_data)[0]\n",
    "        sleep(3)\n",
    "        return next_close, next_pct_change\n",
    "\n",
    "\n",
    "if __name__ == '__main__':\n",
    "    \n",
    "    bot_token = '6111156932:AAGWg7uRvD7cwTK_UpzGcWv54MJkKWgyMoI'\n",
    "    bot_chatID = '5562607566'\n",
    "    today = date.today()\n",
    "    two_days_later = today + timedelta(days=1)\n",
    "    message = f\"predictions for {two_days_later} using Day timeframe\"\n",
    "    Prediction.send_message(bot_token, bot_chatID, message)\n",
    "    df = pd.read_csv(\"icici tick/100.csv\")\n",
    "    symbol = df.values\n",
    "    for i in range(94):\n",
    "        sym = symbol[i][0]\n",
    "        prediction = Prediction.predict_next_close(sym)\n",
    "        if prediction and abs(prediction[1]) > 1.0:\n",
    "            message = f\"{sym}\\nchange: {prediction[1]:.2f}%\"\n",
    "            Prediction.send_message(bot_token, bot_chatID, message)\n"
   ]
  },
  {
   "cell_type": "code",
   "execution_count": null,
   "metadata": {},
   "outputs": [],
   "source": []
  }
 ],
 "metadata": {
  "kernelspec": {
   "display_name": "base",
   "language": "python",
   "name": "python3"
  },
  "language_info": {
   "codemirror_mode": {
    "name": "ipython",
    "version": 3
   },
   "file_extension": ".py",
   "mimetype": "text/x-python",
   "name": "python",
   "nbconvert_exporter": "python",
   "pygments_lexer": "ipython3",
   "version": "3.9.13"
  },
  "orig_nbformat": 4
 },
 "nbformat": 4,
 "nbformat_minor": 2
}
